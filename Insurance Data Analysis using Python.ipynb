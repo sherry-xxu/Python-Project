{
 "cells": [
  {
   "cell_type": "markdown",
   "id": "13997e17",
   "metadata": {},
   "source": [
    "**Thoughts on insurance.csv dataset**\n",
    "1. Dataset\n",
    "    1. Columns\n",
    "        1. Age - int\n",
    "        2. Sex - female/male\n",
    "        3. BMI - float\n",
    "        4. Children - int\n",
    "        5. Smoking - yes/no\n",
    "        6. Region: northeast/northwest/southeast/southwest\n",
    "        7. Charges: float\n",
    "\n",
    "    2. Questions came up while looking through dataset:\n",
    "        1. What region has the highest average health insurance charges? What is the most prominent factor (age/sex/bmi/children/smoking) that results in high average health insurance?\n",
    "        2. relationship between age and bmi?\n",
    "        3. relationship between region and smoking?\n",
    "        4. Smokers will have higher bmi than non-smokers?\n",
    "\n",
    "2. Data I need for Question1\n",
    "    1. region\n",
    "    2. health insurance charges\n",
    "     \n",
    "3. What analysis needs to be done\n",
    "    1. descriptive analysis\n",
    "    2. goal: Find major factor that affects high health insurance in one region and come up with solutions to decrease average health insurance costs for that region."
   ]
  },
  {
   "cell_type": "code",
   "execution_count": 32,
   "id": "b62e385f",
   "metadata": {},
   "outputs": [],
   "source": [
    "import csv\n",
    "\n",
    "#create a list for each title\n",
    "list_ages = []\n",
    "list_sex = []\n",
    "list_bmis = []\n",
    "list_children = []\n",
    "list_smoker = []\n",
    "list_regions = []\n",
    "list_charges = []\n",
    "with open('insurance.csv', newline='') as insurance_csv:\n",
    "    insurance_reader = csv.DictReader(insurance_csv)\n",
    "    for row in insurance_reader:\n",
    "        list_ages.append(row['age'])\n",
    "        list_sex.append(row['sex'])\n",
    "        list_bmis.append(row['bmi'])\n",
    "        list_children.append(row['children'])\n",
    "        list_smoker.append(row['smoker'])\n",
    "        list_regions.append(row['region'])\n",
    "        list_charges.append(row['charges'])\n",
    "\n",
    "#create a dictionary with all data in a format {insurer_id: {insurer data}}\n",
    "def insurance_dictionary():\n",
    "    insurance_dict = {}\n",
    "    for i in range(len(list_ages)):\n",
    "        insurance_dict[i] = \\\n",
    "        {'Age': int(list_ages[i]),\n",
    "        'Sex': list_sex[i],\n",
    "        'BMI': float(list_bmis[i]),\n",
    "        'Children': int(list_children[i]),\n",
    "        'Smoker': list_smoker[i],\n",
    "        'Region': list_regions[i],\n",
    "        'Charges': float(list_charges[i])}\n",
    "    return insurance_dict\n",
    "    \n",
    "insurance_dict = insurance_dictionary()\n",
    "#print(insurance_dictionary())"
   ]
  },
  {
   "cell_type": "code",
   "execution_count": 33,
   "id": "40117ed5",
   "metadata": {},
   "outputs": [],
   "source": [
    "#create a dictionary with keys as regions and values as insurer's data\n",
    "def region_dictionary():\n",
    "    region_dict = {'southeast': [], 'southwest': [], 'northeast': [], 'northwest': []}\n",
    "    for insurer_data in insurance_dict.values():\n",
    "        if insurer_data['Region'] == 'southeast':\n",
    "            region_dict['southeast'].append(insurer_data)\n",
    "        elif insurer_data['Region'] == 'southwest':\n",
    "            region_dict['southwest'].append(insurer_data)\n",
    "        elif insurer_data['Region'] == 'northeast':\n",
    "            region_dict['northeast'].append(insurer_data)\n",
    "        elif insurer_data['Region'] == 'northwest':\n",
    "            region_dict['northwest'].append(insurer_data)\n",
    "    return region_dict\n",
    "\n",
    "region_dict = region_dictionary()\n",
    "#print(region_dict)\n",
    "            "
   ]
  },
  {
   "cell_type": "code",
   "execution_count": 7,
   "id": "ac805721",
   "metadata": {},
   "outputs": [
    {
     "name": "stdout",
     "output_type": "stream",
     "text": [
      "364\n",
      "325\n",
      "324\n",
      "325\n"
     ]
    }
   ],
   "source": [
    "#calculate the length of each region's list\n",
    "num_of_se = len(region_dict['southeast'])\n",
    "num_of_sw = len(region_dict['southwest'])\n",
    "num_of_ne = len(region_dict['northeast'])\n",
    "num_of_nw = len(region_dict['northwest'])\n",
    "\n",
    "print(num_of_se)\n",
    "print(num_of_sw)\n",
    "print(num_of_ne)\n",
    "print(num_of_nw)"
   ]
  },
  {
   "cell_type": "code",
   "execution_count": 56,
   "id": "937f1903",
   "metadata": {},
   "outputs": [
    {
     "data": {
      "text/plain": [
       "11087.120869615383"
      ]
     },
     "execution_count": 56,
     "metadata": {},
     "output_type": "execute_result"
    }
   ],
   "source": [
    "\n",
    "\n",
    "#calculate each region's average insurance charges\n",
    "# total_charges_se = 0\n",
    "# for insurer_data in region_dict['southeast']:\n",
    "#     total_charges_se += insurer_data['Charges']\n",
    "# print(total_charges_se)\n",
    "    \n",
    "#create a class to calculate each region's average insurance charge\n",
    "class AverageCharge:\n",
    "    def __init__(self, num_of_region_insurer):\n",
    "        self.num_of_region_insurer = num_of_region_insurer\n",
    "        \n",
    "    def total_charges_region(self, region_in_dict):\n",
    "        total_charge = 0\n",
    "        for insurer_data in region_in_dict:\n",
    "            total_charge += insurer_data['Charges']\n",
    "        return total_charge\n",
    "    \n",
    "    def average_charge_region(self, total_charge):\n",
    "        average_charge = total_charge / self.num_of_region_insurer\n",
    "        return average_charge\n"
   ]
  },
  {
   "cell_type": "code",
   "execution_count": null,
   "id": "4a9b2f79",
   "metadata": {},
   "outputs": [],
   "source": [
    "charge_se = AverageCharge(num_of_se)\n",
    "charge_se.total_charges_region(region_dict['southeast'])\n",
    "charge_se.average_charge_region(5363689.763290002)\n",
    "#average charges of southeast is $14735.411437609895"
   ]
  },
  {
   "cell_type": "code",
   "execution_count": 61,
   "id": "d6ace112",
   "metadata": {},
   "outputs": [
    {
     "data": {
      "text/plain": [
       "12346.93737729231"
      ]
     },
     "execution_count": 61,
     "metadata": {},
     "output_type": "execute_result"
    }
   ],
   "source": [
    "charge_sw = AverageCharge(num_of_sw)\n",
    "charge_sw.total_charges_region(region_dict['southwest'])\n",
    "charge_sw.average_charge_region(4012754.647620001)\n",
    "#average charges of southwest is $12346.93737729231"
   ]
  },
  {
   "cell_type": "code",
   "execution_count": 64,
   "id": "698ee5e2",
   "metadata": {},
   "outputs": [
    {
     "data": {
      "text/plain": [
       "13406.3845163858"
      ]
     },
     "execution_count": 64,
     "metadata": {},
     "output_type": "execute_result"
    }
   ],
   "source": [
    "charge_ne = AverageCharge(num_of_ne)\n",
    "charge_ne.total_charges_region(region_dict['northeast'])\n",
    "charge_ne.average_charge_region(4343668.583308999)\n",
    "#average charges of northeast is $13406.3845163858"
   ]
  },
  {
   "cell_type": "code",
   "execution_count": 67,
   "id": "2de947bd",
   "metadata": {},
   "outputs": [
    {
     "data": {
      "text/plain": [
       "12417.575373969228"
      ]
     },
     "execution_count": 67,
     "metadata": {},
     "output_type": "execute_result"
    }
   ],
   "source": [
    "charge_nw = AverageCharge(num_of_nw)\n",
    "charge_nw.total_charges_region(region_dict['northwest'])\n",
    "charge_nw.average_charge_region(4035711.9965399993)\n",
    "#average charges of northwest is $12417.575373969228"
   ]
  },
  {
   "cell_type": "markdown",
   "id": "e83755e2",
   "metadata": {},
   "source": [
    "Average charges of regions:\\\n",
    "Southeast: 14735.411437609895\\\n",
    "Southwest: 12346.93737729231\\\n",
    "Northeast: 13406.3845163858\\\n",
    "Northwest: 12417.575373969228"
   ]
  },
  {
   "cell_type": "markdown",
   "id": "89b694a9",
   "metadata": {},
   "source": [
    "Southest region has the highest average insurance charges $14735.411437609895."
   ]
  },
  {
   "cell_type": "code",
   "execution_count": 68,
   "id": "5fc82d45",
   "metadata": {},
   "outputs": [],
   "source": [
    "#average age of insurers in regions\n",
    "class AverageAge():\n",
    "    def __init__(self, num_of_region_insurer):\n",
    "        self.num_of_region_insurer = num_of_region_insurer\n",
    "        \n",
    "    def average_age(self,region_in_dict):\n",
    "        total_age = 0\n",
    "        for insurer_data in region_in_dict:\n",
    "            total_age += insurer_data['Age']\n",
    "        ave_age = total_age / self.num_of_region_insurer\n",
    "        return ave_age\n",
    "    \n",
    "            "
   ]
  },
  {
   "cell_type": "code",
   "execution_count": 71,
   "id": "c532920d",
   "metadata": {},
   "outputs": [
    {
     "data": {
      "text/plain": [
       "38.93956043956044"
      ]
     },
     "execution_count": 71,
     "metadata": {},
     "output_type": "execute_result"
    }
   ],
   "source": [
    "age_se = AverageAge(num_of_se)\n",
    "age_se.average_age(region_dict['southeast'])"
   ]
  },
  {
   "cell_type": "code",
   "execution_count": 72,
   "id": "4d6396ca",
   "metadata": {},
   "outputs": [
    {
     "data": {
      "text/plain": [
       "39.45538461538462"
      ]
     },
     "execution_count": 72,
     "metadata": {},
     "output_type": "execute_result"
    }
   ],
   "source": [
    "age_sw = AverageAge(num_of_sw)\n",
    "age_sw.average_age(region_dict['southwest'])"
   ]
  },
  {
   "cell_type": "code",
   "execution_count": 74,
   "id": "f93af456",
   "metadata": {},
   "outputs": [
    {
     "data": {
      "text/plain": [
       "39.26851851851852"
      ]
     },
     "execution_count": 74,
     "metadata": {},
     "output_type": "execute_result"
    }
   ],
   "source": [
    "age_ne = AverageAge(num_of_ne)\n",
    "age_ne.average_age(region_dict['northeast'])"
   ]
  },
  {
   "cell_type": "code",
   "execution_count": 75,
   "id": "ff0183c7",
   "metadata": {},
   "outputs": [
    {
     "data": {
      "text/plain": [
       "39.3179012345679"
      ]
     },
     "execution_count": 75,
     "metadata": {},
     "output_type": "execute_result"
    }
   ],
   "source": [
    "age_nw = AverageAge(num_of_nw)\n",
    "age_ne.average_age(region_dict['northwest'])"
   ]
  },
  {
   "cell_type": "markdown",
   "id": "de3c2f61",
   "metadata": {},
   "source": [
    "Average age for regions:\\\n",
    "Southeast: 38.93956043956044\\\n",
    "Southwest: 39.45538461538462\\\n",
    "Northeast: 39.26851851851852\\\n",
    "Northwest: 39.3179012345679"
   ]
  },
  {
   "cell_type": "code",
   "execution_count": 87,
   "id": "c6bb18b1",
   "metadata": {},
   "outputs": [
    {
     "name": "stdout",
     "output_type": "stream",
     "text": [
      "{'southeast': {'male': 189, 'female': 175}, 'southwest': {'male': 163, 'female': 162}, 'northeast': {'male': 163, 'female': 161}, 'northwest': {'male': 161, 'female': 164}}\n"
     ]
    }
   ],
   "source": [
    "#create a dictionary with key as regions value is a dictionary, in which keys are male or female and values are the numbers\n",
    "def male_female_dict():\n",
    "    \n",
    "    \n",
    "    m_f_dict = {'southeast': {}, 'southwest': {}, 'northeast': {}, 'northwest': {}}\n",
    "    for key, value in region_dict.items():\n",
    "        male_num = 0\n",
    "        female_num = 0\n",
    "        if key == 'southeast':\n",
    "            for insurer_data in value:\n",
    "                if insurer_data['Sex'] == 'male':\n",
    "                    male_num += 1\n",
    "                else:\n",
    "                    female_num += 1\n",
    "            m_f_dict['southeast'].update({'male': male_num, 'female': female_num})\n",
    "        if key == 'southwest':\n",
    "            for insurer_data in value:\n",
    "                if insurer_data['Sex'] == 'male':\n",
    "                    male_num += 1\n",
    "                else:\n",
    "                    female_num += 1\n",
    "            m_f_dict['southwest'].update({'male': male_num, 'female': female_num})\n",
    "        if key == 'northeast':\n",
    "            for insurer_data in value:\n",
    "                if insurer_data['Sex'] == 'male':\n",
    "                    male_num += 1\n",
    "                else:\n",
    "                    female_num += 1\n",
    "            m_f_dict['northeast'].update({'male': male_num, 'female': female_num})\n",
    "        if key == 'northwest':\n",
    "             for insurer_data in value:\n",
    "                if insurer_data['Sex'] == 'male':\n",
    "                    male_num += 1\n",
    "                else:\n",
    "                    female_num += 1\n",
    "        m_f_dict['northwest'].update({'male': male_num, 'female': female_num})\n",
    "    \n",
    "    \n",
    "    return m_f_dict\n",
    "print(male_female_dict())\n",
    "    "
   ]
  },
  {
   "cell_type": "markdown",
   "id": "0bcf6306",
   "metadata": {},
   "source": [
    "Southest region has relatively more male insurers than female insurers compared to the other three regions."
   ]
  },
  {
   "cell_type": "code",
   "execution_count": 1,
   "id": "0b48de04",
   "metadata": {},
   "outputs": [],
   "source": [
    "#average bmi for each region\n",
    "class AverageBMI:\n",
    "    def __init__(self, num_of_region_insurer):\n",
    "        self.num_of_region_insurer = num_of_region_insurer\n",
    "        \n",
    "    def average_bmi(self, region_in_dict):\n",
    "        total_bmi = 0\n",
    "        for insurer_data in region_in_dict:\n",
    "            total_bmi += insurer_data['BMI']\n",
    "        ave_bmi = total_bmi / self.num_of_region_insurer\n",
    "        return ave_bmi"
   ]
  },
  {
   "cell_type": "code",
   "execution_count": 8,
   "id": "5b535e19",
   "metadata": {},
   "outputs": [
    {
     "data": {
      "text/plain": [
       "33.35598901098903"
      ]
     },
     "execution_count": 8,
     "metadata": {},
     "output_type": "execute_result"
    }
   ],
   "source": [
    "bmi_se = AverageBMI(num_of_se)\n",
    "bmi_se.average_bmi(region_dict['southeast'])"
   ]
  },
  {
   "cell_type": "code",
   "execution_count": 9,
   "id": "caabbbb5",
   "metadata": {},
   "outputs": [
    {
     "data": {
      "text/plain": [
       "30.59661538461538"
      ]
     },
     "execution_count": 9,
     "metadata": {},
     "output_type": "execute_result"
    }
   ],
   "source": [
    "bmi_sw = AverageBMI(num_of_sw)\n",
    "bmi_sw.average_bmi(region_dict['southwest'])"
   ]
  },
  {
   "cell_type": "code",
   "execution_count": 10,
   "id": "812ffa67",
   "metadata": {},
   "outputs": [
    {
     "data": {
      "text/plain": [
       "29.17350308641976"
      ]
     },
     "execution_count": 10,
     "metadata": {},
     "output_type": "execute_result"
    }
   ],
   "source": [
    "bmi_ne = AverageBMI(num_of_ne)\n",
    "bmi_ne.average_bmi(region_dict['northeast'])"
   ]
  },
  {
   "cell_type": "code",
   "execution_count": 11,
   "id": "4b113189",
   "metadata": {},
   "outputs": [
    {
     "data": {
      "text/plain": [
       "29.199784615384626"
      ]
     },
     "execution_count": 11,
     "metadata": {},
     "output_type": "execute_result"
    }
   ],
   "source": [
    "bmi_nw = AverageBMI(num_of_nw)\n",
    "bmi_nw.average_bmi(region_dict['northwest'])"
   ]
  },
  {
   "cell_type": "markdown",
   "id": "2a6e7b9b",
   "metadata": {},
   "source": [
    "Average BMI for regions:\\\n",
    "Southeast: 33.35598901098903\\\n",
    "Southwest: 30.59661538461538\\\n",
    "Northeast: 29.17350308641976\\\n",
    "Northwest: 29.199784615384626\\\n",
    "\\\n",
    "Southeast region has the highest average BMI among four regions."
   ]
  },
  {
   "cell_type": "code",
   "execution_count": 15,
   "id": "d95a38f4",
   "metadata": {},
   "outputs": [],
   "source": [
    "#average number of children per each insurer\n",
    "class AverageChildren:\n",
    "    def __init__(self, num_of_region_insurer):\n",
    "        self.num_of_region_insurer = num_of_region_insurer\n",
    "        \n",
    "    def average_children(self, region_in_dict):\n",
    "        total_children = 0\n",
    "        for insurer_data in region_in_dict:\n",
    "            total_children += insurer_data['Children']\n",
    "        ave_children = total_children / self.num_of_region_insurer\n",
    "        return ave_children"
   ]
  },
  {
   "cell_type": "code",
   "execution_count": 16,
   "id": "41776799",
   "metadata": {},
   "outputs": [
    {
     "data": {
      "text/plain": [
       "1.0494505494505495"
      ]
     },
     "execution_count": 16,
     "metadata": {},
     "output_type": "execute_result"
    }
   ],
   "source": [
    "children_se = AverageChildren(num_of_se)\n",
    "children_se.average_children(region_dict['southeast'])"
   ]
  },
  {
   "cell_type": "code",
   "execution_count": 17,
   "id": "8e2e36a0",
   "metadata": {},
   "outputs": [
    {
     "data": {
      "text/plain": [
       "1.1415384615384616"
      ]
     },
     "execution_count": 17,
     "metadata": {},
     "output_type": "execute_result"
    }
   ],
   "source": [
    "children_sw = AverageChildren(num_of_sw)\n",
    "children_sw.average_children(region_dict['southwest'])"
   ]
  },
  {
   "cell_type": "code",
   "execution_count": 18,
   "id": "16e12bc2",
   "metadata": {},
   "outputs": [
    {
     "data": {
      "text/plain": [
       "1.0462962962962963"
      ]
     },
     "execution_count": 18,
     "metadata": {},
     "output_type": "execute_result"
    }
   ],
   "source": [
    "children_ne = AverageChildren(num_of_ne)\n",
    "children_ne.average_children(region_dict['northeast'])"
   ]
  },
  {
   "cell_type": "code",
   "execution_count": 19,
   "id": "0cb258b5",
   "metadata": {},
   "outputs": [
    {
     "data": {
      "text/plain": [
       "1.1476923076923078"
      ]
     },
     "execution_count": 19,
     "metadata": {},
     "output_type": "execute_result"
    }
   ],
   "source": [
    "children_nw = AverageChildren(num_of_nw)\n",
    "children_nw.average_children(region_dict['northwest'])"
   ]
  },
  {
   "cell_type": "markdown",
   "id": "80e62541",
   "metadata": {},
   "source": [
    "Average number of children included in a insurer of regions:\\\n",
    "Southeast: 1.0494505494505495\\\n",
    "Southwest: 1.1415384615384616\\\n",
    "Northeast: 1.0462962962962963\\\n",
    "Northwest: 1.1476923076923078\\\n",
    "\\\n",
    "Insurers in four regions have similar average number of children."
   ]
  },
  {
   "cell_type": "code",
   "execution_count": 30,
   "id": "719adef7",
   "metadata": {},
   "outputs": [],
   "source": [
    "#calculate the percentage of smokers in each region\n",
    "def num_of_smoker():\n",
    "    smoker_percent = {}\n",
    "    for key, value in region_dict.items():\n",
    "        number_of_smoker = 0\n",
    "        if key == 'southeast':\n",
    "            for insurer_data in value:\n",
    "                if insurer_data['Smoker'] == 'yes':\n",
    "                    number_of_smoker += 1\n",
    "                else:\n",
    "                    continue\n",
    "            smoker_percentage = number_of_smoker / num_of_se * 100\n",
    "            smoker_percent['southeast'] = smoker_percentage\n",
    "        \n",
    "        if key == 'southwest':\n",
    "            for insurer_data in value:\n",
    "                if insurer_data['Smoker'] == 'yes':\n",
    "                    number_of_smoker += 1\n",
    "                else:\n",
    "                    continue\n",
    "            smoker_percentage = number_of_smoker / num_of_sw * 100\n",
    "            smoker_percent['southwest'] = smoker_percentage\n",
    "            \n",
    "        if key == 'northeast':\n",
    "            for insurer_data in value:\n",
    "                if insurer_data['Smoker'] == 'yes':\n",
    "                    number_of_smoker += 1\n",
    "                else:\n",
    "                    continue\n",
    "            smoker_percentage = number_of_smoker / num_of_ne * 100\n",
    "            smoker_percent['northeast'] = smoker_percentage\n",
    "            \n",
    "        if key == 'northwest':\n",
    "            for insurer_data in value:\n",
    "                if insurer_data['Smoker'] == 'yes':\n",
    "                    number_of_smoker += 1\n",
    "                else:\n",
    "                    continue\n",
    "            smoker_percentage = number_of_smoker / num_of_nw * 100\n",
    "            smoker_percent['northwest'] = smoker_percentage\n",
    "    return smoker_percent\n",
    "    smoker_percent = num_of_smoker()"
   ]
  },
  {
   "cell_type": "code",
   "execution_count": 31,
   "id": "d05bdca7",
   "metadata": {},
   "outputs": [
    {
     "name": "stdout",
     "output_type": "stream",
     "text": [
      "{'southeast': 25.0, 'southwest': 17.846153846153847, 'northeast': 20.679012345679013, 'northwest': 17.846153846153847}\n"
     ]
    }
   ],
   "source": [
    "print(num_of_smoker())"
   ]
  },
  {
   "cell_type": "markdown",
   "id": "8780962e",
   "metadata": {},
   "source": [
    "Smoker percentage of regions:\n",
    "Southeast: 25.0; \n",
    "Southwest: 17.846153846153847; \n",
    "Northeast: 20.679012345679013; \n",
    "Northwest: 17.846153846153847; \n",
    "\n",
    "Insurers in southeast region has the highest percentage of smokers among all four regions."
   ]
  },
  {
   "cell_type": "markdown",
   "id": "daa3098f",
   "metadata": {},
   "source": [
    "Conclusion:\n",
    "1. Southeast Region\n",
    "    1. Surveyed insurer population: 364\n",
    "    2. Average age of insurer: 38.94\n",
    "    3. Surveryed male/female insurer: 189/175\n",
    "    4. Average BMI of insurer: 33.36\n",
    "    5. Average number of children: 1.05\n",
    "    6. Smoker percentage: 25.0\n",
    "    7. Average insurance charges: 14735.41\n",
    "\n",
    "\n",
    "2. Southwest Region\n",
    "    1. Surveyed insurer population: 325\n",
    "    2. Average age of insurer: 39.46\n",
    "    3. Surveryed male/female insurer: 163/162\n",
    "    4. Average BMI of insurer: 30.60\n",
    "    5. Average number of children: 1.14\n",
    "    6. Smoker percentage: 17.85\n",
    "    7. Average insurance charges: 12346.94\n",
    "\n",
    "\n",
    "3. Northeast Region\n",
    "    1. Surveyed insurer population: 324\n",
    "    2. Average age of insurer: 39.27\n",
    "    3. Surveryed male/female insurer: 163/161\n",
    "    4. Average BMI of insurer: 29.17\n",
    "    5. Average number of children: 1.05\n",
    "    6. Smoker percentage: 20.68\n",
    "    7. Average insurance charges: 13406.38\n",
    "\n",
    "\n",
    "4. Northwest Region\n",
    "    1. Surveyed insurer population: 325\n",
    "    2. Average age of insurer: 39.32\n",
    "    3. Surveryed male/female insurer: 161/164\n",
    "    4. Average BMI of insurer: 29.20\n",
    "    5. Average number of children: 1.15\n",
    "    6. Smoker percentage: 17.85\n",
    "    7. Average insurance charges: 12417.58"
   ]
  },
  {
   "cell_type": "code",
   "execution_count": null,
   "id": "00c1d639",
   "metadata": {},
   "outputs": [],
   "source": []
  }
 ],
 "metadata": {
  "kernelspec": {
   "display_name": "Python 3",
   "language": "python",
   "name": "python3"
  },
  "language_info": {
   "codemirror_mode": {
    "name": "ipython",
    "version": 3
   },
   "file_extension": ".py",
   "mimetype": "text/x-python",
   "name": "python",
   "nbconvert_exporter": "python",
   "pygments_lexer": "ipython3",
   "version": "3.8.8"
  }
 },
 "nbformat": 4,
 "nbformat_minor": 5
}
